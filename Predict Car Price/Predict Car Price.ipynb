{
 "cells": [
  {
   "cell_type": "markdown",
   "metadata": {},
   "source": [
    "# Predict Car's Market Price"
   ]
  },
  {
   "cell_type": "markdown",
   "metadata": {},
   "source": [
    "## 1. Introduction to Dataset"
   ]
  },
  {
   "cell_type": "markdown",
   "metadata": {},
   "source": [
    "Dalam project ini kita akan mencoba memprediksi harga pasar sebuah mobil dari berbagai atribut yang dimilikinya. Dataset yang akan kita gunakan mempunyai informasi teknis masing-masing mobil. Untuk penjelasan dataset lebih lengkap dapat dilihat [disini](https://archive.ics.uci.edu/ml/datasets/automobile)"
   ]
  },
  {
   "cell_type": "code",
   "execution_count": 1,
   "metadata": {
    "collapsed": false,
    "jupyter": {
     "outputs_hidden": false
    }
   },
   "outputs": [
    {
     "data": {
      "text/html": [
       "<div>\n",
       "<style scoped>\n",
       "    .dataframe tbody tr th:only-of-type {\n",
       "        vertical-align: middle;\n",
       "    }\n",
       "\n",
       "    .dataframe tbody tr th {\n",
       "        vertical-align: top;\n",
       "    }\n",
       "\n",
       "    .dataframe thead th {\n",
       "        text-align: right;\n",
       "    }\n",
       "</style>\n",
       "<table border=\"1\" class=\"dataframe\">\n",
       "  <thead>\n",
       "    <tr style=\"text-align: right;\">\n",
       "      <th></th>\n",
       "      <th>symboling</th>\n",
       "      <th>normalized-losses</th>\n",
       "      <th>make</th>\n",
       "      <th>fuel-type</th>\n",
       "      <th>aspiration</th>\n",
       "      <th>num-of-doors</th>\n",
       "      <th>body-style</th>\n",
       "      <th>drive-wheels</th>\n",
       "      <th>engine-location</th>\n",
       "      <th>wheel-base</th>\n",
       "      <th>length</th>\n",
       "      <th>width</th>\n",
       "      <th>height</th>\n",
       "      <th>curb-weight</th>\n",
       "      <th>engine-type</th>\n",
       "      <th>num-of-cylinders</th>\n",
       "      <th>engine-size</th>\n",
       "      <th>fuel-system</th>\n",
       "      <th>bore</th>\n",
       "      <th>stroke</th>\n",
       "      <th>compression-rate</th>\n",
       "      <th>horsepower</th>\n",
       "      <th>peak-rpm</th>\n",
       "      <th>city-mpg</th>\n",
       "      <th>highway-mpg</th>\n",
       "      <th>price</th>\n",
       "    </tr>\n",
       "  </thead>\n",
       "  <tbody>\n",
       "    <tr>\n",
       "      <th>0</th>\n",
       "      <td>3</td>\n",
       "      <td>?</td>\n",
       "      <td>alfa-romero</td>\n",
       "      <td>gas</td>\n",
       "      <td>std</td>\n",
       "      <td>two</td>\n",
       "      <td>convertible</td>\n",
       "      <td>rwd</td>\n",
       "      <td>front</td>\n",
       "      <td>88.6</td>\n",
       "      <td>168.8</td>\n",
       "      <td>64.1</td>\n",
       "      <td>48.8</td>\n",
       "      <td>2548</td>\n",
       "      <td>dohc</td>\n",
       "      <td>four</td>\n",
       "      <td>130</td>\n",
       "      <td>mpfi</td>\n",
       "      <td>3.47</td>\n",
       "      <td>2.68</td>\n",
       "      <td>9.0</td>\n",
       "      <td>111</td>\n",
       "      <td>5000</td>\n",
       "      <td>21</td>\n",
       "      <td>27</td>\n",
       "      <td>13495</td>\n",
       "    </tr>\n",
       "    <tr>\n",
       "      <th>1</th>\n",
       "      <td>3</td>\n",
       "      <td>?</td>\n",
       "      <td>alfa-romero</td>\n",
       "      <td>gas</td>\n",
       "      <td>std</td>\n",
       "      <td>two</td>\n",
       "      <td>convertible</td>\n",
       "      <td>rwd</td>\n",
       "      <td>front</td>\n",
       "      <td>88.6</td>\n",
       "      <td>168.8</td>\n",
       "      <td>64.1</td>\n",
       "      <td>48.8</td>\n",
       "      <td>2548</td>\n",
       "      <td>dohc</td>\n",
       "      <td>four</td>\n",
       "      <td>130</td>\n",
       "      <td>mpfi</td>\n",
       "      <td>3.47</td>\n",
       "      <td>2.68</td>\n",
       "      <td>9.0</td>\n",
       "      <td>111</td>\n",
       "      <td>5000</td>\n",
       "      <td>21</td>\n",
       "      <td>27</td>\n",
       "      <td>16500</td>\n",
       "    </tr>\n",
       "    <tr>\n",
       "      <th>2</th>\n",
       "      <td>1</td>\n",
       "      <td>?</td>\n",
       "      <td>alfa-romero</td>\n",
       "      <td>gas</td>\n",
       "      <td>std</td>\n",
       "      <td>two</td>\n",
       "      <td>hatchback</td>\n",
       "      <td>rwd</td>\n",
       "      <td>front</td>\n",
       "      <td>94.5</td>\n",
       "      <td>171.2</td>\n",
       "      <td>65.5</td>\n",
       "      <td>52.4</td>\n",
       "      <td>2823</td>\n",
       "      <td>ohcv</td>\n",
       "      <td>six</td>\n",
       "      <td>152</td>\n",
       "      <td>mpfi</td>\n",
       "      <td>2.68</td>\n",
       "      <td>3.47</td>\n",
       "      <td>9.0</td>\n",
       "      <td>154</td>\n",
       "      <td>5000</td>\n",
       "      <td>19</td>\n",
       "      <td>26</td>\n",
       "      <td>16500</td>\n",
       "    </tr>\n",
       "    <tr>\n",
       "      <th>3</th>\n",
       "      <td>2</td>\n",
       "      <td>164</td>\n",
       "      <td>audi</td>\n",
       "      <td>gas</td>\n",
       "      <td>std</td>\n",
       "      <td>four</td>\n",
       "      <td>sedan</td>\n",
       "      <td>fwd</td>\n",
       "      <td>front</td>\n",
       "      <td>99.8</td>\n",
       "      <td>176.6</td>\n",
       "      <td>66.2</td>\n",
       "      <td>54.3</td>\n",
       "      <td>2337</td>\n",
       "      <td>ohc</td>\n",
       "      <td>four</td>\n",
       "      <td>109</td>\n",
       "      <td>mpfi</td>\n",
       "      <td>3.19</td>\n",
       "      <td>3.40</td>\n",
       "      <td>10.0</td>\n",
       "      <td>102</td>\n",
       "      <td>5500</td>\n",
       "      <td>24</td>\n",
       "      <td>30</td>\n",
       "      <td>13950</td>\n",
       "    </tr>\n",
       "    <tr>\n",
       "      <th>4</th>\n",
       "      <td>2</td>\n",
       "      <td>164</td>\n",
       "      <td>audi</td>\n",
       "      <td>gas</td>\n",
       "      <td>std</td>\n",
       "      <td>four</td>\n",
       "      <td>sedan</td>\n",
       "      <td>4wd</td>\n",
       "      <td>front</td>\n",
       "      <td>99.4</td>\n",
       "      <td>176.6</td>\n",
       "      <td>66.4</td>\n",
       "      <td>54.3</td>\n",
       "      <td>2824</td>\n",
       "      <td>ohc</td>\n",
       "      <td>five</td>\n",
       "      <td>136</td>\n",
       "      <td>mpfi</td>\n",
       "      <td>3.19</td>\n",
       "      <td>3.40</td>\n",
       "      <td>8.0</td>\n",
       "      <td>115</td>\n",
       "      <td>5500</td>\n",
       "      <td>18</td>\n",
       "      <td>22</td>\n",
       "      <td>17450</td>\n",
       "    </tr>\n",
       "  </tbody>\n",
       "</table>\n",
       "</div>"
      ],
      "text/plain": [
       "   symboling normalized-losses         make fuel-type aspiration num-of-doors  \\\n",
       "0          3                 ?  alfa-romero       gas        std          two   \n",
       "1          3                 ?  alfa-romero       gas        std          two   \n",
       "2          1                 ?  alfa-romero       gas        std          two   \n",
       "3          2               164         audi       gas        std         four   \n",
       "4          2               164         audi       gas        std         four   \n",
       "\n",
       "    body-style drive-wheels engine-location  wheel-base  length  width  \\\n",
       "0  convertible          rwd           front        88.6   168.8   64.1   \n",
       "1  convertible          rwd           front        88.6   168.8   64.1   \n",
       "2    hatchback          rwd           front        94.5   171.2   65.5   \n",
       "3        sedan          fwd           front        99.8   176.6   66.2   \n",
       "4        sedan          4wd           front        99.4   176.6   66.4   \n",
       "\n",
       "   height  curb-weight engine-type num-of-cylinders  engine-size fuel-system  \\\n",
       "0    48.8         2548        dohc             four          130        mpfi   \n",
       "1    48.8         2548        dohc             four          130        mpfi   \n",
       "2    52.4         2823        ohcv              six          152        mpfi   \n",
       "3    54.3         2337         ohc             four          109        mpfi   \n",
       "4    54.3         2824         ohc             five          136        mpfi   \n",
       "\n",
       "   bore stroke  compression-rate horsepower peak-rpm  city-mpg  highway-mpg  \\\n",
       "0  3.47   2.68               9.0        111     5000        21           27   \n",
       "1  3.47   2.68               9.0        111     5000        21           27   \n",
       "2  2.68   3.47               9.0        154     5000        19           26   \n",
       "3  3.19   3.40              10.0        102     5500        24           30   \n",
       "4  3.19   3.40               8.0        115     5500        18           22   \n",
       "\n",
       "   price  \n",
       "0  13495  \n",
       "1  16500  \n",
       "2  16500  \n",
       "3  13950  \n",
       "4  17450  "
      ]
     },
     "execution_count": 1,
     "metadata": {},
     "output_type": "execute_result"
    }
   ],
   "source": [
    "import pandas as pd\n",
    "import numpy as np\n",
    "\n",
    "pd.options.display.max_columns = 99\n",
    "cols = ['symboling', 'normalized-losses', 'make', 'fuel-type', 'aspiration', 'num-of-doors', 'body-style', \n",
    "        'drive-wheels', 'engine-location', 'wheel-base', 'length', 'width', 'height', 'curb-weight', 'engine-type', \n",
    "        'num-of-cylinders', 'engine-size', 'fuel-system', 'bore', 'stroke', 'compression-rate', 'horsepower', 'peak-rpm', 'city-mpg', 'highway-mpg', 'price']\n",
    "cars = pd.read_csv('imports-85.data', names=cols)\n",
    "\n",
    "cars.head()"
   ]
  },
  {
   "cell_type": "code",
   "execution_count": 2,
   "metadata": {
    "collapsed": false,
    "jupyter": {
     "outputs_hidden": false
    }
   },
   "outputs": [
    {
     "data": {
      "text/html": [
       "<div>\n",
       "<style scoped>\n",
       "    .dataframe tbody tr th:only-of-type {\n",
       "        vertical-align: middle;\n",
       "    }\n",
       "\n",
       "    .dataframe tbody tr th {\n",
       "        vertical-align: top;\n",
       "    }\n",
       "\n",
       "    .dataframe thead th {\n",
       "        text-align: right;\n",
       "    }\n",
       "</style>\n",
       "<table border=\"1\" class=\"dataframe\">\n",
       "  <thead>\n",
       "    <tr style=\"text-align: right;\">\n",
       "      <th></th>\n",
       "      <th>normalized-losses</th>\n",
       "      <th>wheel-base</th>\n",
       "      <th>length</th>\n",
       "      <th>width</th>\n",
       "      <th>height</th>\n",
       "      <th>curb-weight</th>\n",
       "      <th>engine-size</th>\n",
       "      <th>bore</th>\n",
       "      <th>stroke</th>\n",
       "      <th>compression-rate</th>\n",
       "      <th>horsepower</th>\n",
       "      <th>peak-rpm</th>\n",
       "      <th>city-mpg</th>\n",
       "      <th>highway-mpg</th>\n",
       "      <th>price</th>\n",
       "    </tr>\n",
       "  </thead>\n",
       "  <tbody>\n",
       "    <tr>\n",
       "      <th>0</th>\n",
       "      <td>?</td>\n",
       "      <td>88.6</td>\n",
       "      <td>168.8</td>\n",
       "      <td>64.1</td>\n",
       "      <td>48.8</td>\n",
       "      <td>2548</td>\n",
       "      <td>130</td>\n",
       "      <td>3.47</td>\n",
       "      <td>2.68</td>\n",
       "      <td>9.0</td>\n",
       "      <td>111</td>\n",
       "      <td>5000</td>\n",
       "      <td>21</td>\n",
       "      <td>27</td>\n",
       "      <td>13495</td>\n",
       "    </tr>\n",
       "    <tr>\n",
       "      <th>1</th>\n",
       "      <td>?</td>\n",
       "      <td>88.6</td>\n",
       "      <td>168.8</td>\n",
       "      <td>64.1</td>\n",
       "      <td>48.8</td>\n",
       "      <td>2548</td>\n",
       "      <td>130</td>\n",
       "      <td>3.47</td>\n",
       "      <td>2.68</td>\n",
       "      <td>9.0</td>\n",
       "      <td>111</td>\n",
       "      <td>5000</td>\n",
       "      <td>21</td>\n",
       "      <td>27</td>\n",
       "      <td>16500</td>\n",
       "    </tr>\n",
       "    <tr>\n",
       "      <th>2</th>\n",
       "      <td>?</td>\n",
       "      <td>94.5</td>\n",
       "      <td>171.2</td>\n",
       "      <td>65.5</td>\n",
       "      <td>52.4</td>\n",
       "      <td>2823</td>\n",
       "      <td>152</td>\n",
       "      <td>2.68</td>\n",
       "      <td>3.47</td>\n",
       "      <td>9.0</td>\n",
       "      <td>154</td>\n",
       "      <td>5000</td>\n",
       "      <td>19</td>\n",
       "      <td>26</td>\n",
       "      <td>16500</td>\n",
       "    </tr>\n",
       "    <tr>\n",
       "      <th>3</th>\n",
       "      <td>164</td>\n",
       "      <td>99.8</td>\n",
       "      <td>176.6</td>\n",
       "      <td>66.2</td>\n",
       "      <td>54.3</td>\n",
       "      <td>2337</td>\n",
       "      <td>109</td>\n",
       "      <td>3.19</td>\n",
       "      <td>3.40</td>\n",
       "      <td>10.0</td>\n",
       "      <td>102</td>\n",
       "      <td>5500</td>\n",
       "      <td>24</td>\n",
       "      <td>30</td>\n",
       "      <td>13950</td>\n",
       "    </tr>\n",
       "    <tr>\n",
       "      <th>4</th>\n",
       "      <td>164</td>\n",
       "      <td>99.4</td>\n",
       "      <td>176.6</td>\n",
       "      <td>66.4</td>\n",
       "      <td>54.3</td>\n",
       "      <td>2824</td>\n",
       "      <td>136</td>\n",
       "      <td>3.19</td>\n",
       "      <td>3.40</td>\n",
       "      <td>8.0</td>\n",
       "      <td>115</td>\n",
       "      <td>5500</td>\n",
       "      <td>18</td>\n",
       "      <td>22</td>\n",
       "      <td>17450</td>\n",
       "    </tr>\n",
       "  </tbody>\n",
       "</table>\n",
       "</div>"
      ],
      "text/plain": [
       "  normalized-losses  wheel-base  length  width  height  curb-weight  \\\n",
       "0                 ?        88.6   168.8   64.1    48.8         2548   \n",
       "1                 ?        88.6   168.8   64.1    48.8         2548   \n",
       "2                 ?        94.5   171.2   65.5    52.4         2823   \n",
       "3               164        99.8   176.6   66.2    54.3         2337   \n",
       "4               164        99.4   176.6   66.4    54.3         2824   \n",
       "\n",
       "   engine-size  bore stroke  compression-rate horsepower peak-rpm  city-mpg  \\\n",
       "0          130  3.47   2.68               9.0        111     5000        21   \n",
       "1          130  3.47   2.68               9.0        111     5000        21   \n",
       "2          152  2.68   3.47               9.0        154     5000        19   \n",
       "3          109  3.19   3.40              10.0        102     5500        24   \n",
       "4          136  3.19   3.40               8.0        115     5500        18   \n",
       "\n",
       "   highway-mpg  price  \n",
       "0           27  13495  \n",
       "1           27  16500  \n",
       "2           26  16500  \n",
       "3           30  13950  \n",
       "4           22  17450  "
      ]
     },
     "execution_count": 2,
     "metadata": {},
     "output_type": "execute_result"
    }
   ],
   "source": [
    "#Memakai kolom yang bernilai kontinu\n",
    "features = ['normalized-losses', 'wheel-base', 'length', 'width', 'height', 'curb-weight', 'engine-size', 'bore', 'stroke', 'compression-rate', 'horsepower', 'peak-rpm', 'city-mpg', 'highway-mpg', 'price']\n",
    "data = cars[features]\n",
    "data.head()"
   ]
  },
  {
   "cell_type": "markdown",
   "metadata": {},
   "source": [
    "# 2. Data Cleaning"
   ]
  },
  {
   "cell_type": "code",
   "execution_count": 3,
   "metadata": {
    "collapsed": false,
    "jupyter": {
     "outputs_hidden": false
    }
   },
   "outputs": [
    {
     "name": "stdout",
     "output_type": "stream",
     "text": [
      "<class 'pandas.core.frame.DataFrame'>\n",
      "RangeIndex: 205 entries, 0 to 204\n",
      "Data columns (total 15 columns):\n",
      " #   Column             Non-Null Count  Dtype  \n",
      "---  ------             --------------  -----  \n",
      " 0   normalized-losses  205 non-null    object \n",
      " 1   wheel-base         205 non-null    float64\n",
      " 2   length             205 non-null    float64\n",
      " 3   width              205 non-null    float64\n",
      " 4   height             205 non-null    float64\n",
      " 5   curb-weight        205 non-null    int64  \n",
      " 6   engine-size        205 non-null    int64  \n",
      " 7   bore               205 non-null    object \n",
      " 8   stroke             205 non-null    object \n",
      " 9   compression-rate   205 non-null    float64\n",
      " 10  horsepower         205 non-null    object \n",
      " 11  peak-rpm           205 non-null    object \n",
      " 12  city-mpg           205 non-null    int64  \n",
      " 13  highway-mpg        205 non-null    int64  \n",
      " 14  price              205 non-null    object \n",
      "dtypes: float64(5), int64(4), object(6)\n",
      "memory usage: 24.1+ KB\n"
     ]
    }
   ],
   "source": [
    "data.info()"
   ]
  },
  {
   "cell_type": "code",
   "execution_count": 4,
   "metadata": {
    "collapsed": false,
    "jupyter": {
     "outputs_hidden": false
    }
   },
   "outputs": [
    {
     "data": {
      "text/html": [
       "<div>\n",
       "<style scoped>\n",
       "    .dataframe tbody tr th:only-of-type {\n",
       "        vertical-align: middle;\n",
       "    }\n",
       "\n",
       "    .dataframe tbody tr th {\n",
       "        vertical-align: top;\n",
       "    }\n",
       "\n",
       "    .dataframe thead th {\n",
       "        text-align: right;\n",
       "    }\n",
       "</style>\n",
       "<table border=\"1\" class=\"dataframe\">\n",
       "  <thead>\n",
       "    <tr style=\"text-align: right;\">\n",
       "      <th></th>\n",
       "      <th>normalized-losses</th>\n",
       "      <th>wheel-base</th>\n",
       "      <th>length</th>\n",
       "      <th>width</th>\n",
       "      <th>height</th>\n",
       "      <th>curb-weight</th>\n",
       "      <th>engine-size</th>\n",
       "      <th>bore</th>\n",
       "      <th>stroke</th>\n",
       "      <th>compression-rate</th>\n",
       "      <th>horsepower</th>\n",
       "      <th>peak-rpm</th>\n",
       "      <th>city-mpg</th>\n",
       "      <th>highway-mpg</th>\n",
       "      <th>price</th>\n",
       "    </tr>\n",
       "  </thead>\n",
       "  <tbody>\n",
       "    <tr>\n",
       "      <th>0</th>\n",
       "      <td>NaN</td>\n",
       "      <td>88.6</td>\n",
       "      <td>168.8</td>\n",
       "      <td>64.1</td>\n",
       "      <td>48.8</td>\n",
       "      <td>2548</td>\n",
       "      <td>130</td>\n",
       "      <td>3.47</td>\n",
       "      <td>2.68</td>\n",
       "      <td>9.0</td>\n",
       "      <td>111</td>\n",
       "      <td>5000</td>\n",
       "      <td>21</td>\n",
       "      <td>27</td>\n",
       "      <td>13495</td>\n",
       "    </tr>\n",
       "    <tr>\n",
       "      <th>1</th>\n",
       "      <td>NaN</td>\n",
       "      <td>88.6</td>\n",
       "      <td>168.8</td>\n",
       "      <td>64.1</td>\n",
       "      <td>48.8</td>\n",
       "      <td>2548</td>\n",
       "      <td>130</td>\n",
       "      <td>3.47</td>\n",
       "      <td>2.68</td>\n",
       "      <td>9.0</td>\n",
       "      <td>111</td>\n",
       "      <td>5000</td>\n",
       "      <td>21</td>\n",
       "      <td>27</td>\n",
       "      <td>16500</td>\n",
       "    </tr>\n",
       "    <tr>\n",
       "      <th>2</th>\n",
       "      <td>NaN</td>\n",
       "      <td>94.5</td>\n",
       "      <td>171.2</td>\n",
       "      <td>65.5</td>\n",
       "      <td>52.4</td>\n",
       "      <td>2823</td>\n",
       "      <td>152</td>\n",
       "      <td>2.68</td>\n",
       "      <td>3.47</td>\n",
       "      <td>9.0</td>\n",
       "      <td>154</td>\n",
       "      <td>5000</td>\n",
       "      <td>19</td>\n",
       "      <td>26</td>\n",
       "      <td>16500</td>\n",
       "    </tr>\n",
       "    <tr>\n",
       "      <th>3</th>\n",
       "      <td>164</td>\n",
       "      <td>99.8</td>\n",
       "      <td>176.6</td>\n",
       "      <td>66.2</td>\n",
       "      <td>54.3</td>\n",
       "      <td>2337</td>\n",
       "      <td>109</td>\n",
       "      <td>3.19</td>\n",
       "      <td>3.40</td>\n",
       "      <td>10.0</td>\n",
       "      <td>102</td>\n",
       "      <td>5500</td>\n",
       "      <td>24</td>\n",
       "      <td>30</td>\n",
       "      <td>13950</td>\n",
       "    </tr>\n",
       "    <tr>\n",
       "      <th>4</th>\n",
       "      <td>164</td>\n",
       "      <td>99.4</td>\n",
       "      <td>176.6</td>\n",
       "      <td>66.4</td>\n",
       "      <td>54.3</td>\n",
       "      <td>2824</td>\n",
       "      <td>136</td>\n",
       "      <td>3.19</td>\n",
       "      <td>3.40</td>\n",
       "      <td>8.0</td>\n",
       "      <td>115</td>\n",
       "      <td>5500</td>\n",
       "      <td>18</td>\n",
       "      <td>22</td>\n",
       "      <td>17450</td>\n",
       "    </tr>\n",
       "  </tbody>\n",
       "</table>\n",
       "</div>"
      ],
      "text/plain": [
       "  normalized-losses  wheel-base  length  width  height  curb-weight  \\\n",
       "0               NaN        88.6   168.8   64.1    48.8         2548   \n",
       "1               NaN        88.6   168.8   64.1    48.8         2548   \n",
       "2               NaN        94.5   171.2   65.5    52.4         2823   \n",
       "3               164        99.8   176.6   66.2    54.3         2337   \n",
       "4               164        99.4   176.6   66.4    54.3         2824   \n",
       "\n",
       "   engine-size  bore stroke  compression-rate horsepower peak-rpm  city-mpg  \\\n",
       "0          130  3.47   2.68               9.0        111     5000        21   \n",
       "1          130  3.47   2.68               9.0        111     5000        21   \n",
       "2          152  2.68   3.47               9.0        154     5000        19   \n",
       "3          109  3.19   3.40              10.0        102     5500        24   \n",
       "4          136  3.19   3.40               8.0        115     5500        18   \n",
       "\n",
       "   highway-mpg  price  \n",
       "0           27  13495  \n",
       "1           27  16500  \n",
       "2           26  16500  \n",
       "3           30  13950  \n",
       "4           22  17450  "
      ]
     },
     "execution_count": 4,
     "metadata": {},
     "output_type": "execute_result"
    }
   ],
   "source": [
    "data = data.replace('?',np.nan)\n",
    "data.head()"
   ]
  },
  {
   "cell_type": "code",
   "execution_count": 5,
   "metadata": {
    "collapsed": false,
    "jupyter": {
     "outputs_hidden": false
    }
   },
   "outputs": [
    {
     "name": "stdout",
     "output_type": "stream",
     "text": [
      "<class 'pandas.core.frame.DataFrame'>\n",
      "RangeIndex: 205 entries, 0 to 204\n",
      "Data columns (total 15 columns):\n",
      " #   Column             Non-Null Count  Dtype  \n",
      "---  ------             --------------  -----  \n",
      " 0   normalized-losses  164 non-null    float64\n",
      " 1   wheel-base         205 non-null    float64\n",
      " 2   length             205 non-null    float64\n",
      " 3   width              205 non-null    float64\n",
      " 4   height             205 non-null    float64\n",
      " 5   curb-weight        205 non-null    float64\n",
      " 6   engine-size        205 non-null    float64\n",
      " 7   bore               201 non-null    float64\n",
      " 8   stroke             201 non-null    float64\n",
      " 9   compression-rate   205 non-null    float64\n",
      " 10  horsepower         203 non-null    float64\n",
      " 11  peak-rpm           203 non-null    float64\n",
      " 12  city-mpg           205 non-null    float64\n",
      " 13  highway-mpg        205 non-null    float64\n",
      " 14  price              201 non-null    float64\n",
      "dtypes: float64(15)\n",
      "memory usage: 24.1 KB\n"
     ]
    }
   ],
   "source": [
    "data = data.astype('float')\n",
    "data.info()"
   ]
  },
  {
   "cell_type": "code",
   "execution_count": 6,
   "metadata": {
    "collapsed": false,
    "jupyter": {
     "outputs_hidden": false
    }
   },
   "outputs": [
    {
     "data": {
      "text/plain": [
       "normalized-losses    41\n",
       "wheel-base            0\n",
       "length                0\n",
       "width                 0\n",
       "height                0\n",
       "curb-weight           0\n",
       "engine-size           0\n",
       "bore                  4\n",
       "stroke                4\n",
       "compression-rate      0\n",
       "horsepower            2\n",
       "peak-rpm              2\n",
       "city-mpg              0\n",
       "highway-mpg           0\n",
       "price                 4\n",
       "dtype: int64"
      ]
     },
     "execution_count": 6,
     "metadata": {},
     "output_type": "execute_result"
    }
   ],
   "source": [
    "data.isnull().sum()"
   ]
  },
  {
   "cell_type": "code",
   "execution_count": 7,
   "metadata": {
    "collapsed": false,
    "jupyter": {
     "outputs_hidden": false
    }
   },
   "outputs": [
    {
     "data": {
      "text/plain": [
       "normalized-losses    37\n",
       "wheel-base            0\n",
       "length                0\n",
       "width                 0\n",
       "height                0\n",
       "curb-weight           0\n",
       "engine-size           0\n",
       "bore                  4\n",
       "stroke                4\n",
       "compression-rate      0\n",
       "horsepower            2\n",
       "peak-rpm              2\n",
       "city-mpg              0\n",
       "highway-mpg           0\n",
       "price                 0\n",
       "dtype: int64"
      ]
     },
     "execution_count": 7,
     "metadata": {},
     "output_type": "execute_result"
    }
   ],
   "source": [
    "#Menghilangkan data null pada kolom price karena kita ingin memprediksi kolom itu\n",
    "data = data.dropna(subset=['price'])\n",
    "data.isnull().sum()"
   ]
  },
  {
   "cell_type": "code",
   "execution_count": 8,
   "metadata": {
    "collapsed": false,
    "jupyter": {
     "outputs_hidden": false
    }
   },
   "outputs": [
    {
     "data": {
      "text/plain": [
       "normalized-losses    0\n",
       "wheel-base           0\n",
       "length               0\n",
       "width                0\n",
       "height               0\n",
       "curb-weight          0\n",
       "engine-size          0\n",
       "bore                 0\n",
       "stroke               0\n",
       "compression-rate     0\n",
       "horsepower           0\n",
       "peak-rpm             0\n",
       "city-mpg             0\n",
       "highway-mpg          0\n",
       "price                0\n",
       "dtype: int64"
      ]
     },
     "execution_count": 8,
     "metadata": {},
     "output_type": "execute_result"
    }
   ],
   "source": [
    "#Mereplace null value di data dengan mean masing-masing kolom\n",
    "data = data.fillna(data.mean())\n",
    "data.isnull().sum()"
   ]
  },
  {
   "cell_type": "code",
   "execution_count": 9,
   "metadata": {
    "collapsed": false,
    "jupyter": {
     "outputs_hidden": false
    }
   },
   "outputs": [
    {
     "data": {
      "text/html": [
       "<div>\n",
       "<style scoped>\n",
       "    .dataframe tbody tr th:only-of-type {\n",
       "        vertical-align: middle;\n",
       "    }\n",
       "\n",
       "    .dataframe tbody tr th {\n",
       "        vertical-align: top;\n",
       "    }\n",
       "\n",
       "    .dataframe thead th {\n",
       "        text-align: right;\n",
       "    }\n",
       "</style>\n",
       "<table border=\"1\" class=\"dataframe\">\n",
       "  <thead>\n",
       "    <tr style=\"text-align: right;\">\n",
       "      <th></th>\n",
       "      <th>normalized-losses</th>\n",
       "      <th>wheel-base</th>\n",
       "      <th>length</th>\n",
       "      <th>width</th>\n",
       "      <th>height</th>\n",
       "      <th>curb-weight</th>\n",
       "      <th>engine-size</th>\n",
       "      <th>bore</th>\n",
       "      <th>stroke</th>\n",
       "      <th>compression-rate</th>\n",
       "      <th>horsepower</th>\n",
       "      <th>peak-rpm</th>\n",
       "      <th>city-mpg</th>\n",
       "      <th>highway-mpg</th>\n",
       "      <th>price</th>\n",
       "    </tr>\n",
       "  </thead>\n",
       "  <tbody>\n",
       "    <tr>\n",
       "      <th>0</th>\n",
       "      <td>0.000000</td>\n",
       "      <td>-1.680910</td>\n",
       "      <td>-0.438315</td>\n",
       "      <td>-0.851335</td>\n",
       "      <td>-2.029015</td>\n",
       "      <td>-0.014821</td>\n",
       "      <td>0.075201</td>\n",
       "      <td>0.519597</td>\n",
       "      <td>-1.825369</td>\n",
       "      <td>-0.290709</td>\n",
       "      <td>0.203476</td>\n",
       "      <td>-0.245942</td>\n",
       "      <td>-0.650624</td>\n",
       "      <td>-0.540937</td>\n",
       "      <td>13495.0</td>\n",
       "    </tr>\n",
       "    <tr>\n",
       "      <th>1</th>\n",
       "      <td>0.000000</td>\n",
       "      <td>-1.680910</td>\n",
       "      <td>-0.438315</td>\n",
       "      <td>-0.851335</td>\n",
       "      <td>-2.029015</td>\n",
       "      <td>-0.014821</td>\n",
       "      <td>0.075201</td>\n",
       "      <td>0.519597</td>\n",
       "      <td>-1.825369</td>\n",
       "      <td>-0.290709</td>\n",
       "      <td>0.203476</td>\n",
       "      <td>-0.245942</td>\n",
       "      <td>-0.650624</td>\n",
       "      <td>-0.540937</td>\n",
       "      <td>16500.0</td>\n",
       "    </tr>\n",
       "    <tr>\n",
       "      <th>2</th>\n",
       "      <td>0.000000</td>\n",
       "      <td>-0.708334</td>\n",
       "      <td>-0.243544</td>\n",
       "      <td>-0.185134</td>\n",
       "      <td>-0.558319</td>\n",
       "      <td>0.516789</td>\n",
       "      <td>0.604724</td>\n",
       "      <td>-2.427374</td>\n",
       "      <td>0.674254</td>\n",
       "      <td>-0.290709</td>\n",
       "      <td>1.354267</td>\n",
       "      <td>-0.245942</td>\n",
       "      <td>-0.961995</td>\n",
       "      <td>-0.687669</td>\n",
       "      <td>16500.0</td>\n",
       "    </tr>\n",
       "    <tr>\n",
       "      <th>3</th>\n",
       "      <td>1.312654</td>\n",
       "      <td>0.165335</td>\n",
       "      <td>0.194690</td>\n",
       "      <td>0.147966</td>\n",
       "      <td>0.217881</td>\n",
       "      <td>-0.422710</td>\n",
       "      <td>-0.430252</td>\n",
       "      <td>-0.524899</td>\n",
       "      <td>0.452769</td>\n",
       "      <td>-0.041019</td>\n",
       "      <td>-0.037387</td>\n",
       "      <td>0.799836</td>\n",
       "      <td>-0.183569</td>\n",
       "      <td>-0.100741</td>\n",
       "      <td>13950.0</td>\n",
       "    </tr>\n",
       "    <tr>\n",
       "      <th>4</th>\n",
       "      <td>1.312654</td>\n",
       "      <td>0.099398</td>\n",
       "      <td>0.194690</td>\n",
       "      <td>0.243137</td>\n",
       "      <td>0.217881</td>\n",
       "      <td>0.518722</td>\n",
       "      <td>0.219617</td>\n",
       "      <td>-0.524899</td>\n",
       "      <td>0.452769</td>\n",
       "      <td>-0.540399</td>\n",
       "      <td>0.310527</td>\n",
       "      <td>0.799836</td>\n",
       "      <td>-1.117680</td>\n",
       "      <td>-1.274597</td>\n",
       "      <td>17450.0</td>\n",
       "    </tr>\n",
       "  </tbody>\n",
       "</table>\n",
       "</div>"
      ],
      "text/plain": [
       "   normalized-losses  wheel-base    length     width    height  curb-weight  \\\n",
       "0           0.000000   -1.680910 -0.438315 -0.851335 -2.029015    -0.014821   \n",
       "1           0.000000   -1.680910 -0.438315 -0.851335 -2.029015    -0.014821   \n",
       "2           0.000000   -0.708334 -0.243544 -0.185134 -0.558319     0.516789   \n",
       "3           1.312654    0.165335  0.194690  0.147966  0.217881    -0.422710   \n",
       "4           1.312654    0.099398  0.194690  0.243137  0.217881     0.518722   \n",
       "\n",
       "   engine-size      bore    stroke  compression-rate  horsepower  peak-rpm  \\\n",
       "0     0.075201  0.519597 -1.825369         -0.290709    0.203476 -0.245942   \n",
       "1     0.075201  0.519597 -1.825369         -0.290709    0.203476 -0.245942   \n",
       "2     0.604724 -2.427374  0.674254         -0.290709    1.354267 -0.245942   \n",
       "3    -0.430252 -0.524899  0.452769         -0.041019   -0.037387  0.799836   \n",
       "4     0.219617 -0.524899  0.452769         -0.540399    0.310527  0.799836   \n",
       "\n",
       "   city-mpg  highway-mpg    price  \n",
       "0 -0.650624    -0.540937  13495.0  \n",
       "1 -0.650624    -0.540937  16500.0  \n",
       "2 -0.961995    -0.687669  16500.0  \n",
       "3 -0.183569    -0.100741  13950.0  \n",
       "4 -1.117680    -1.274597  17450.0  "
      ]
     },
     "execution_count": 9,
     "metadata": {},
     "output_type": "execute_result"
    }
   ],
   "source": [
    "#Normalize kolom2 selain kolom price\n",
    "price = data['price']\n",
    "data = (data-data.mean())/data.std()\n",
    "data['price'] = price\n",
    "data.head()"
   ]
  },
  {
   "cell_type": "markdown",
   "metadata": {},
   "source": [
    "# 3. Univariate Model"
   ]
  },
  {
   "cell_type": "code",
   "execution_count": 64,
   "metadata": {},
   "outputs": [],
   "source": [
    "from sklearn.model_selection import cross_val_score, KFold\n",
    "from sklearn.neighbors import KNeighborsRegressor\n",
    "def knn_train_test(train_col,target_col,df):\n",
    "    knn = KNeighborsRegressor()\n",
    "    kf = KFold(5,shuffle=True,random_state=1)\n",
    "    mse = cross_val_score(knn,df[train_col],df[target_col],scoring='neg_mean_squared_error',cv=kf)\n",
    "    avg_rmse = np.mean(np.sqrt(np.abs(mse)))\n",
    "    return avg_rmse\n"
   ]
  },
  {
   "cell_type": "code",
   "execution_count": 11,
   "metadata": {
    "collapsed": false,
    "jupyter": {
     "outputs_hidden": false
    }
   },
   "outputs": [
    {
     "data": {
      "text/plain": [
       "['normalized-losses',\n",
       " 'wheel-base',\n",
       " 'length',\n",
       " 'width',\n",
       " 'height',\n",
       " 'curb-weight',\n",
       " 'engine-size',\n",
       " 'bore',\n",
       " 'stroke',\n",
       " 'compression-rate',\n",
       " 'horsepower',\n",
       " 'peak-rpm',\n",
       " 'city-mpg',\n",
       " 'highway-mpg',\n",
       " 'price']"
      ]
     },
     "execution_count": 11,
     "metadata": {},
     "output_type": "execute_result"
    }
   ],
   "source": [
    "data.columns.tolist()"
   ]
  },
  {
   "cell_type": "code",
   "execution_count": 65,
   "metadata": {
    "collapsed": false,
    "jupyter": {
     "outputs_hidden": false
    }
   },
   "outputs": [
    {
     "data": {
      "text/plain": [
       "{'normalized-losses': 7095.507625709315,\n",
       " 'wheel-base': 6028.665651194356,\n",
       " 'length': 5663.368427482166,\n",
       " 'width': 4268.079722169978,\n",
       " 'height': 7599.242213250058,\n",
       " 'curb-weight': 4312.246802669906,\n",
       " 'engine-size': 3191.8329775367115,\n",
       " 'bore': 6893.4125273104455,\n",
       " 'stroke': 7077.7115800881675,\n",
       " 'compression-rate': 6340.700506617709,\n",
       " 'horsepower': 3791.305719968983,\n",
       " 'peak-rpm': 7494.098492564672,\n",
       " 'city-mpg': 4445.030818499132,\n",
       " 'highway-mpg': 4140.2917258705975}"
      ]
     },
     "execution_count": 65,
     "metadata": {},
     "output_type": "execute_result"
    }
   ],
   "source": [
    "rmse_cols = {}\n",
    "for col in data.columns.drop('price').tolist():\n",
    "    rmse_cols[col] = knn_train_test([col],'price',data)\n",
    "rmse_cols"
   ]
  },
  {
   "cell_type": "code",
   "execution_count": 55,
   "metadata": {
    "collapsed": false,
    "jupyter": {
     "outputs_hidden": false
    }
   },
   "outputs": [],
   "source": [
    "def knn_train_test_k(train_col,target_col,df,k_neighbors):\n",
    "    k_mse={}\n",
    "    for k in k_neighbors:\n",
    "        knn = KNeighborsRegressor(n_neighbors=k)\n",
    "        kf = KFold(5,shuffle=True,random_state=1)\n",
    "        mse = cross_val_score(knn,df[train_col],df[target_col],scoring='neg_mean_squared_error',cv=kf)\n",
    "        avg_rmse = np.mean(np.sqrt(np.abs(mse)))\n",
    "        k_mse[k] = avg_rmse\n",
    "    return k_mse"
   ]
  },
  {
   "cell_type": "code",
   "execution_count": 56,
   "metadata": {
    "collapsed": false,
    "jupyter": {
     "outputs_hidden": false
    },
    "scrolled": true
   },
   "outputs": [
    {
     "data": {
      "text/plain": [
       "{'normalized-losses': {1: 8742.025180322587,\n",
       "  3: 6966.119913566826,\n",
       "  5: 7095.507625709315,\n",
       "  7: 7511.2911607101805,\n",
       "  9: 7711.742253795807},\n",
       " 'wheel-base': {1: 4243.639928884716,\n",
       "  3: 5071.662902314459,\n",
       "  5: 6028.665651194356,\n",
       "  7: 6118.589214635821,\n",
       "  9: 6182.110558966602},\n",
       " 'length': {1: 4881.922536998683,\n",
       "  3: 5522.40066414928,\n",
       "  5: 5663.368427482166,\n",
       "  7: 5560.880571230129,\n",
       "  9: 5600.679883790164},\n",
       " 'width': {1: 5110.308191770663,\n",
       "  3: 4066.509393764323,\n",
       "  5: 4268.079722169978,\n",
       "  7: 4631.9070225461355,\n",
       "  9: 4577.0017880566475},\n",
       " 'height': {1: 9267.972331603416,\n",
       "  3: 7577.75231284287,\n",
       "  5: 7599.242213250058,\n",
       "  7: 7553.842874680279,\n",
       "  9: 7595.713359251711},\n",
       " 'curb-weight': {1: 5263.210350129792,\n",
       "  3: 4686.002186106076,\n",
       "  5: 4312.246802669906,\n",
       "  7: 4047.523166566078,\n",
       "  9: 3977.0983239890484},\n",
       " 'engine-size': {1: 3548.02318885446,\n",
       "  3: 3069.094586103613,\n",
       "  5: 3191.8329775367115,\n",
       "  7: 3424.569552452859,\n",
       "  9: 3534.9051444858183},\n",
       " 'bore': {1: 8704.760007703995,\n",
       "  3: 6631.371348737125,\n",
       "  5: 6893.4125273104455,\n",
       "  7: 6918.454255695999,\n",
       "  9: 6638.299992593335},\n",
       " 'stroke': {1: 8229.487873859067,\n",
       "  3: 7170.581358116106,\n",
       "  5: 7077.7115800881675,\n",
       "  7: 7194.4394402566,\n",
       "  9: 7429.451162588479},\n",
       " 'compression-rate': {1: 7840.644305559162,\n",
       "  3: 6483.741881988771,\n",
       "  5: 6340.700506617709,\n",
       "  7: 6327.45050070889,\n",
       "  9: 6506.3395471824115},\n",
       " 'horsepower': {1: 4043.930895951472,\n",
       "  3: 3740.151786875501,\n",
       "  5: 3791.305719968983,\n",
       "  7: 3745.690347690823,\n",
       "  9: 3873.8806041403614},\n",
       " 'peak-rpm': {1: 8341.768574253078,\n",
       "  3: 7766.036791024109,\n",
       "  5: 7494.098492564672,\n",
       "  7: 7388.113993728172,\n",
       "  9: 7540.148510588627},\n",
       " 'city-mpg': {1: 5692.590421689251,\n",
       "  3: 4474.047416038924,\n",
       "  5: 4445.030818499132,\n",
       "  7: 4388.1461650424335,\n",
       "  9: 4350.209578045904},\n",
       " 'highway-mpg': {1: 5732.722405327001,\n",
       "  3: 4595.235433493302,\n",
       "  5: 4140.2917258705975,\n",
       "  7: 4324.844299728891,\n",
       "  9: 4307.082614639321}}"
      ]
     },
     "execution_count": 56,
     "metadata": {},
     "output_type": "execute_result"
    }
   ],
   "source": [
    "rmse_k_cols = {}\n",
    "k_neighbors=[1,3,5,7,9]\n",
    "for col in data.columns.drop('price').tolist():\n",
    "    rmse_k_cols[col] = knn_train_test_k([col],'price',data,k_neighbors)\n",
    "rmse_k_cols"
   ]
  },
  {
   "cell_type": "code",
   "execution_count": 57,
   "metadata": {
    "collapsed": false,
    "jupyter": {
     "outputs_hidden": false
    },
    "scrolled": true
   },
   "outputs": [
    {
     "name": "stdout",
     "output_type": "stream",
     "text": [
      "<class 'pandas.core.frame.DataFrame'>\n",
      "Int64Index: 70 entries, 1 to 70\n",
      "Data columns (total 3 columns):\n",
      " #   Column  Non-Null Count  Dtype  \n",
      "---  ------  --------------  -----  \n",
      " 0   col     70 non-null     object \n",
      " 1   k       70 non-null     float64\n",
      " 2   values  70 non-null     float64\n",
      "dtypes: float64(2), object(1)\n",
      "memory usage: 2.2+ KB\n"
     ]
    }
   ],
   "source": [
    "#Buat dataframe dari dictionary rmse diatas\n",
    "test = {'col':['test'],'k':['test'],'values':['test']}\n",
    "df = pd.DataFrame(data=test)\n",
    "for i in list(rmse_k_cols.keys()):\n",
    "    rmse = rmse_k_cols[i]\n",
    "    val = []\n",
    "    keys = list(rmse.keys())\n",
    "    #keys = keys.sort()\n",
    "    #print(keys)\n",
    "    for key in keys:\n",
    "        #print(key)\n",
    "        val.append(rmse[key])\n",
    "        #print(val)\n",
    "    col = {'col':[i,i,i,i,i],'k':keys , 'values':val}\n",
    "    df1 = pd.DataFrame(data=col)\n",
    "    df = pd.concat([df,df1])\n",
    "df = df.reset_index(drop=True)\n",
    "df=df.drop([0])\n",
    "df['k'] = df['k'].astype('float')\n",
    "df['values'] = df['values'].astype('float')\n",
    "df.info()"
   ]
  },
  {
   "cell_type": "code",
   "execution_count": 58,
   "metadata": {
    "collapsed": false,
    "jupyter": {
     "outputs_hidden": false
    }
   },
   "outputs": [
    {
     "data": {
      "text/plain": [
       "<matplotlib.legend.Legend at 0x17341ffe488>"
      ]
     },
     "execution_count": 58,
     "metadata": {},
     "output_type": "execute_result"
    },
    {
     "data": {
      "image/png": "[encoded data removed]",
      "text/plain": [
       "<Figure size 864x432 with 1 Axes>"
      ]
     },
     "metadata": {
      "needs_background": "light"
     },
     "output_type": "display_data"
    }
   ],
   "source": [
    "import seaborn as sns\n",
    "import matplotlib.pyplot as plt\n",
    "plt.figure(figsize=(12,6))\n",
    "sns.lineplot(x='k',y='values',hue='col', data=df)\n",
    "plt.legend(loc='right')"
   ]
  },
  {
   "cell_type": "markdown",
   "metadata": {},
   "source": [
    "# 4.Multi Variate Model"
   ]
  },
  {
   "cell_type": "code",
   "execution_count": 59,
   "metadata": {},
   "outputs": [
    {
     "data": {
      "text/plain": [
       "engine-size          3353.685090\n",
       "horsepower           3838.991871\n",
       "curb-weight          4457.216166\n",
       "width                4530.761224\n",
       "highway-mpg          4620.035296\n",
       "city-mpg             4670.004880\n",
       "length               5445.850417\n",
       "wheel-base           5528.933651\n",
       "compression-rate     6699.775348\n",
       "bore                 7157.259626\n",
       "stroke               7420.334283\n",
       "normalized-losses    7605.337227\n",
       "peak-rpm             7706.033272\n",
       "height               7918.904618\n",
       "dtype: float64"
      ]
     },
     "execution_count": 59,
     "metadata": {},
     "output_type": "execute_result"
    }
   ],
   "source": [
    "#Menggunakan nilai rmse dari univariate sebelumnya\n",
    "avg_rmse = {}\n",
    "for key in rmse_k_cols.keys():\n",
    "    arr = rmse_k_cols[key]\n",
    "    values = np.mean(list(arr.values()))\n",
    "    avg_rmse[key] = values\n",
    "series_avg_rmse = pd.Series(avg_rmse)\n",
    "series_avg_rmse = series_avg_rmse.sort_values()\n",
    "series_avg_rmse"
   ]
  },
  {
   "cell_type": "code",
   "execution_count": 66,
   "metadata": {},
   "outputs": [
    {
     "data": {
      "text/plain": [
       "2_features    2984.228512\n",
       "3_features    3094.124703\n",
       "4_features    3053.388609\n",
       "5_features    3103.534082\n",
       "dtype: float64"
      ]
     },
     "execution_count": 66,
     "metadata": {},
     "output_type": "execute_result"
    }
   ],
   "source": [
    "n_features_rmse = {}\n",
    "for i in range (2,6):\n",
    "    cols = str(i)+'_features'\n",
    "    features = series_avg_rmse[:i].index.tolist()\n",
    "    n_features_rmse[cols] = knn_train_test(features,'price',data)\n",
    "series_n_features = pd.Series(n_features_rmse)\n",
    "series_n_features"
   ]
  },
  {
   "cell_type": "markdown",
   "metadata": {},
   "source": [
    "# 5. Hyperparameter Optimization"
   ]
  },
  {
   "cell_type": "code",
   "execution_count": 59,
   "metadata": {},
   "outputs": [
    {
     "data": {
      "text/plain": [
       "engine-size          3353.685090\n",
       "horsepower           3838.991871\n",
       "curb-weight          4457.216166\n",
       "width                4530.761224\n",
       "highway-mpg          4620.035296\n",
       "city-mpg             4670.004880\n",
       "length               5445.850417\n",
       "wheel-base           5528.933651\n",
       "compression-rate     6699.775348\n",
       "bore                 7157.259626\n",
       "stroke               7420.334283\n",
       "normalized-losses    7605.337227\n",
       "peak-rpm             7706.033272\n",
       "height               7918.904618\n",
       "dtype: float64"
      ]
     },
     "execution_count": 59,
     "metadata": {},
     "output_type": "execute_result"
    }
   ],
   "source": [
    "#Menggunakan nilai rmse dari univariate sebelumnya\n",
    "avg_rmse = {}\n",
    "for key in rmse_k_cols.keys():\n",
    "    arr = rmse_k_cols[key]\n",
    "    values = np.mean(list(arr.values()))\n",
    "    avg_rmse[key] = values\n",
    "series_avg_rmse = pd.Series(avg_rmse)\n",
    "series_avg_rmse = series_avg_rmse.sort_values()\n",
    "series_avg_rmse"
   ]
  },
  {
   "cell_type": "code",
   "execution_count": 67,
   "metadata": {},
   "outputs": [
    {
     "data": {
      "text/plain": [
       "2_features    {1: 3023.7609640378823, 2: 2707.8442307321407,...\n",
       "3_features    {1: 2751.9530344221116, 2: 2934.4269647484925,...\n",
       "4_features    {1: 2716.5292261145178, 2: 2683.375237398058, ...\n",
       "5_features    {1: 2651.0336101905423, 2: 2665.1353985683213,...\n",
       "dtype: object"
      ]
     },
     "execution_count": 67,
     "metadata": {},
     "output_type": "execute_result"
    }
   ],
   "source": [
    "#Mencoba hyperparameter dari 1-25\n",
    "n_features_rmse = {}\n",
    "for i in range (2,6):\n",
    "    cols = str(i)+'_features'\n",
    "    features = series_avg_rmse[:i].index.tolist()\n",
    "    n_features_rmse[cols] = knn_train_test_k(features,'price',data,[i for i in range(1,26)])\n",
    "series_n_features = pd.Series(n_features_rmse)\n",
    "series_n_features"
   ]
  },
  {
   "cell_type": "code",
   "execution_count": 69,
   "metadata": {
    "collapsed": false,
    "jupyter": {
     "outputs_hidden": false
    },
    "scrolled": true
   },
   "outputs": [
    {
     "name": "stdout",
     "output_type": "stream",
     "text": [
      "<class 'pandas.core.frame.DataFrame'>\n",
      "Int64Index: 100 entries, 1 to 100\n",
      "Data columns (total 3 columns):\n",
      " #   Column  Non-Null Count  Dtype  \n",
      "---  ------  --------------  -----  \n",
      " 0   col     100 non-null    object \n",
      " 1   k       100 non-null    float64\n",
      " 2   values  100 non-null    float64\n",
      "dtypes: float64(2), object(1)\n",
      "memory usage: 3.1+ KB\n"
     ]
    }
   ],
   "source": [
    "#Buat dataframe dari dictionary rmse diatas\n",
    "test = {'col':['test'],'k':['test'],'values':['test']}\n",
    "df = pd.DataFrame(data=test)\n",
    "for i in list(n_features_rmse.keys()):\n",
    "    rmse = n_features_rmse[i]\n",
    "    val = []\n",
    "    keys = list(rmse.keys())\n",
    "    cols=[]\n",
    "    #print(keys)\n",
    "    for key in keys:\n",
    "        cols.append(i)\n",
    "        val.append(rmse[key])\n",
    "    col = {'col':cols,'k':keys , 'values':val}\n",
    "    df1 = pd.DataFrame(data=col)\n",
    "    df = pd.concat([df,df1])\n",
    "df = df.reset_index(drop=True)\n",
    "df=df.drop([0])\n",
    "df['k'] = df['k'].astype('float')\n",
    "df['values'] = df['values'].astype('float')\n",
    "df.info()"
   ]
  },
  {
   "cell_type": "code",
   "execution_count": 68,
   "metadata": {
    "collapsed": true,
    "jupyter": {
     "outputs_hidden": true
    }
   },
   "outputs": [
    {
     "data": {
      "text/plain": [
       "{'2_features': {1: 3023.7609640378823,\n",
       "  2: 2707.8442307321407,\n",
       "  3: 2849.1415350093657,\n",
       "  4: 2920.6113884663,\n",
       "  5: 2984.2285120441256,\n",
       "  6: 2997.6287442932417,\n",
       "  7: 3167.8296778877166,\n",
       "  8: 3260.9648048544964,\n",
       "  9: 3344.2478958096826,\n",
       "  10: 3479.4949719699507,\n",
       "  11: 3586.9657196122744,\n",
       "  12: 3699.9352767309842,\n",
       "  13: 3816.4652800530594,\n",
       "  14: 3916.38629696929,\n",
       "  15: 3942.261589283857,\n",
       "  16: 3989.3104727530945,\n",
       "  17: 4078.1562596173744,\n",
       "  18: 4140.138331785029,\n",
       "  19: 4189.308293545596,\n",
       "  20: 4245.092577237888,\n",
       "  21: 4343.355633581312,\n",
       "  22: 4404.6708037715225,\n",
       "  23: 4458.56763560855,\n",
       "  24: 4514.603790759873,\n",
       "  25: 4550.51185703278},\n",
       " '3_features': {1: 2751.9530344221116,\n",
       "  2: 2934.4269647484925,\n",
       "  3: 2958.306127185603,\n",
       "  4: 2898.715662129486,\n",
       "  5: 3094.1247034627704,\n",
       "  6: 3257.517132107776,\n",
       "  7: 3208.7421416167354,\n",
       "  8: 3283.731327570399,\n",
       "  9: 3340.0418206535055,\n",
       "  10: 3421.6792609647973,\n",
       "  11: 3512.946006441245,\n",
       "  12: 3569.5903267371773,\n",
       "  13: 3644.053542111235,\n",
       "  14: 3678.9179578245285,\n",
       "  15: 3734.290831353251,\n",
       "  16: 3844.2850762343996,\n",
       "  17: 3893.8906466120525,\n",
       "  18: 3955.056769583892,\n",
       "  19: 3997.9433401177434,\n",
       "  20: 4047.0687813869836,\n",
       "  21: 4093.4823938372056,\n",
       "  22: 4150.945404504564,\n",
       "  23: 4194.537295395414,\n",
       "  24: 4229.8057536825945,\n",
       "  25: 4242.693415510544},\n",
       " '4_features': {1: 2716.5292261145178,\n",
       "  2: 2683.375237398058,\n",
       "  3: 2693.3417660029245,\n",
       "  4: 2882.0744681135147,\n",
       "  5: 3053.3886085165354,\n",
       "  6: 3159.9471971042462,\n",
       "  7: 3222.711519467496,\n",
       "  8: 3357.1822600734668,\n",
       "  9: 3332.3289764522824,\n",
       "  10: 3333.1646823643778,\n",
       "  11: 3390.755852011258,\n",
       "  12: 3467.5357610111814,\n",
       "  13: 3567.7840337394287,\n",
       "  14: 3675.4403522796847,\n",
       "  15: 3766.924426286589,\n",
       "  16: 3841.738048496488,\n",
       "  17: 3902.969883465418,\n",
       "  18: 3963.813237351706,\n",
       "  19: 4036.86888925754,\n",
       "  20: 4094.8121443398386,\n",
       "  21: 4113.866299569405,\n",
       "  22: 4126.585107990849,\n",
       "  23: 4146.390633489764,\n",
       "  24: 4167.572923527752,\n",
       "  25: 4208.738700959835},\n",
       " '5_features': {1: 2651.0336101905423,\n",
       "  2: 2665.1353985683213,\n",
       "  3: 2776.700138085848,\n",
       "  4: 2872.0936428635505,\n",
       "  5: 3103.5340822692415,\n",
       "  6: 3229.241352599817,\n",
       "  7: 3305.159427992021,\n",
       "  8: 3358.961441075878,\n",
       "  9: 3429.0737316639206,\n",
       "  10: 3442.4585552279823,\n",
       "  11: 3502.7649325111233,\n",
       "  12: 3559.5318038223,\n",
       "  13: 3671.8512525504448,\n",
       "  14: 3690.028340427176,\n",
       "  15: 3781.6716975167774,\n",
       "  16: 3857.901455993466,\n",
       "  17: 3894.6309401241947,\n",
       "  18: 4002.478843741798,\n",
       "  19: 4048.136829276829,\n",
       "  20: 4062.572221824543,\n",
       "  21: 4107.965160092595,\n",
       "  22: 4117.935130332612,\n",
       "  23: 4142.663693823424,\n",
       "  24: 4177.369682118968,\n",
       "  25: 4212.384911399514}}"
      ]
     },
     "execution_count": 68,
     "metadata": {},
     "output_type": "execute_result"
    }
   ],
   "source": [
    "n_features_rmse"
   ]
  },
  {
   "cell_type": "code",
   "execution_count": 75,
   "metadata": {},
   "outputs": [
    {
     "data": {
      "text/plain": [
       "<AxesSubplot:xlabel='k', ylabel='values'>"
      ]
     },
     "execution_count": 75,
     "metadata": {},
     "output_type": "execute_result"
    },
    {
     "data": {
      "image/png": "[encoded data removed]",
      "text/plain": [
       "<Figure size 432x288 with 1 Axes>"
      ]
     },
     "metadata": {
      "needs_background": "light"
     },
     "output_type": "display_data"
    }
   ],
   "source": [
    "sns.lineplot(x='k',y='values',hue='col',data=df)"
   ]
  },
  {
   "cell_type": "code",
   "execution_count": null,
   "metadata": {},
   "outputs": [],
   "source": []
  }
 ],
 "metadata": {
  "kernelspec": {
   "display_name": "Python 3",
   "language": "python",
   "name": "python3"
  },
  "language_info": {
   "codemirror_mode": {
    "name": "ipython",
    "version": 3
   },
   "file_extension": ".py",
   "mimetype": "text/x-python",
   "name": "python",
   "nbconvert_exporter": "python",
   "pygments_lexer": "ipython3",
   "version": "3.7.4"
  }
 },
 "nbformat": 4,
 "nbformat_minor": 4
}
